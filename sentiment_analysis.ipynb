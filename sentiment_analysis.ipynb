 #Install Required Libraries
!pip install pandas scikit-learn matplotlib seaborn --quiet
# STEP 1: Upload kaggle.json to access Kaggle datasets
from google.colab import files
files.upload()  # Upload kaggle.json here
# STEP 2: Setup Kaggle API and permissions
!mkdir -p ~/.kaggle
!cp kaggle.json ~/.kaggle/
!chmod 600 ~/.kaggle/kaggle.json
# STEP 3: Download the IMDb dataset from Kaggle
!kaggle datasets download -d lakshmi25npathi/imdb-dataset-of-50k-movie-reviews
# STEP 4: Unzip the dataset
!unzip imdb-dataset-of-50k-movie-reviews.zip
# STEP 5: Import necessary libraries
import pandas as pd
import numpy as np
import re
import string
import matplotlib.pyplot as plt
import seaborn as sns

from sklearn.model_selection import train_test_split
from sklearn.feature_extraction.text import TfidfVectorizer
from sklearn.linear_model import LogisticRegression
from sklearn.metrics import accuracy_score, classification_report, confusion_matrix
# STEP 6: Load and preview the dataset
df = pd.read_csv('IMDB Dataset.csv')
print("Shape of the dataset:", df.shape)
df.head()
# STEP 7: Preprocessing the text data
def clean_text(text):
    text = text.lower()  # Lowercase
    text = re.sub(r'<.*?>', '', text)  # Remove HTML tags
    text = re.sub(f'[{re.escape(string.punctuation)}]', '', text)  # Remove punctuation
    text = re.sub(r'\d+', '', text)  # Remove numbers
    text = text.strip()
    return text

df['review'] = df['review'].apply(clean_text)
df['sentiment'] = df['sentiment'].map({'positive': 1, 'negative': 0})
# Visualize class distribution
sns.countplot(x='sentiment', data=df)
plt.title('Sentiment Distribution (0 = Negative, 1 = Positive)')
plt.show()
# STEP 8: Train-test split
X = df['review']
y = df['sentiment']

X_train, X_test, y_train, y_test = train_test_split(X, y, test_size=0.2, random_state=42)
# STEP 9: TF-IDF Vectorization
tfidf = TfidfVectorizer(max_features=5000)
X_train_tfidf = tfidf.fit_transform(X_train)
X_test_tfidf = tfidf.transform(X_test)
# STEP 10: Train the Logistic Regression model
model = LogisticRegression()
model.fit(X_train_tfidf, y_train)
# STEP 11: Make predictions and evaluate
y_pred = model.predict(X_test_tfidf)

print("✅ Accuracy:", accuracy_score(y_test, y_pred))
print("\n✅ Classification Report:\n", classification_report(y_test, y_pred))
# Step 12: Visualize Confusion Matrix
cm = confusion_matrix(y_test, y_pred)
sns.heatmap(cm, annot=True, fmt="d", cmap="Blues")
plt.xlabel('Predicted')
plt.ylabel('Actual')
plt.title("Confusion Matrix")
plt.show()
